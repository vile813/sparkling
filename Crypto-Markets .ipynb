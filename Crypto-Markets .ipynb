{
 "cells": [
  {
   "cell_type": "code",
   "execution_count": 16,
   "metadata": {},
   "outputs": [],
   "source": [
    "import pandas as pd\n",
    "import matplotlib.pyplot as plt\n",
    "cc = pd.read_csv('C:/Users/vilee/Downloads/all-crypto-currencies/crypto-markets.csv')"
   ]
  },
  {
   "cell_type": "code",
   "execution_count": 8,
   "metadata": {},
   "outputs": [
    {
     "data": {
      "text/html": [
       "<div>\n",
       "<style scoped>\n",
       "    .dataframe tbody tr th:only-of-type {\n",
       "        vertical-align: middle;\n",
       "    }\n",
       "\n",
       "    .dataframe tbody tr th {\n",
       "        vertical-align: top;\n",
       "    }\n",
       "\n",
       "    .dataframe thead th {\n",
       "        text-align: right;\n",
       "    }\n",
       "</style>\n",
       "<table border=\"1\" class=\"dataframe\">\n",
       "  <thead>\n",
       "    <tr style=\"text-align: right;\">\n",
       "      <th></th>\n",
       "      <th>slug</th>\n",
       "      <th>symbol</th>\n",
       "      <th>name</th>\n",
       "      <th>date</th>\n",
       "      <th>ranknow</th>\n",
       "      <th>open</th>\n",
       "      <th>high</th>\n",
       "      <th>low</th>\n",
       "      <th>close</th>\n",
       "      <th>volume</th>\n",
       "      <th>market</th>\n",
       "      <th>close_ratio</th>\n",
       "      <th>spread</th>\n",
       "    </tr>\n",
       "  </thead>\n",
       "  <tbody>\n",
       "    <tr>\n",
       "      <th>0</th>\n",
       "      <td>bitcoin</td>\n",
       "      <td>BTC</td>\n",
       "      <td>Bitcoin</td>\n",
       "      <td>2013-04-28</td>\n",
       "      <td>1</td>\n",
       "      <td>135.30</td>\n",
       "      <td>135.98</td>\n",
       "      <td>132.10</td>\n",
       "      <td>134.21</td>\n",
       "      <td>0.0</td>\n",
       "      <td>1.500520e+09</td>\n",
       "      <td>0.5438</td>\n",
       "      <td>3.88</td>\n",
       "    </tr>\n",
       "    <tr>\n",
       "      <th>1</th>\n",
       "      <td>bitcoin</td>\n",
       "      <td>BTC</td>\n",
       "      <td>Bitcoin</td>\n",
       "      <td>2013-04-29</td>\n",
       "      <td>1</td>\n",
       "      <td>134.44</td>\n",
       "      <td>147.49</td>\n",
       "      <td>134.00</td>\n",
       "      <td>144.54</td>\n",
       "      <td>0.0</td>\n",
       "      <td>1.491160e+09</td>\n",
       "      <td>0.7813</td>\n",
       "      <td>13.49</td>\n",
       "    </tr>\n",
       "    <tr>\n",
       "      <th>2</th>\n",
       "      <td>bitcoin</td>\n",
       "      <td>BTC</td>\n",
       "      <td>Bitcoin</td>\n",
       "      <td>2013-04-30</td>\n",
       "      <td>1</td>\n",
       "      <td>144.00</td>\n",
       "      <td>146.93</td>\n",
       "      <td>134.05</td>\n",
       "      <td>139.00</td>\n",
       "      <td>0.0</td>\n",
       "      <td>1.597780e+09</td>\n",
       "      <td>0.3843</td>\n",
       "      <td>12.88</td>\n",
       "    </tr>\n",
       "    <tr>\n",
       "      <th>3</th>\n",
       "      <td>bitcoin</td>\n",
       "      <td>BTC</td>\n",
       "      <td>Bitcoin</td>\n",
       "      <td>2013-05-01</td>\n",
       "      <td>1</td>\n",
       "      <td>139.00</td>\n",
       "      <td>139.89</td>\n",
       "      <td>107.72</td>\n",
       "      <td>116.99</td>\n",
       "      <td>0.0</td>\n",
       "      <td>1.542820e+09</td>\n",
       "      <td>0.2882</td>\n",
       "      <td>32.17</td>\n",
       "    </tr>\n",
       "    <tr>\n",
       "      <th>4</th>\n",
       "      <td>bitcoin</td>\n",
       "      <td>BTC</td>\n",
       "      <td>Bitcoin</td>\n",
       "      <td>2013-05-02</td>\n",
       "      <td>1</td>\n",
       "      <td>116.38</td>\n",
       "      <td>125.60</td>\n",
       "      <td>92.28</td>\n",
       "      <td>105.21</td>\n",
       "      <td>0.0</td>\n",
       "      <td>1.292190e+09</td>\n",
       "      <td>0.3881</td>\n",
       "      <td>33.32</td>\n",
       "    </tr>\n",
       "  </tbody>\n",
       "</table>\n",
       "</div>"
      ],
      "text/plain": [
       "      slug symbol     name        date  ranknow    open    high     low  \\\n",
       "0  bitcoin    BTC  Bitcoin  2013-04-28        1  135.30  135.98  132.10   \n",
       "1  bitcoin    BTC  Bitcoin  2013-04-29        1  134.44  147.49  134.00   \n",
       "2  bitcoin    BTC  Bitcoin  2013-04-30        1  144.00  146.93  134.05   \n",
       "3  bitcoin    BTC  Bitcoin  2013-05-01        1  139.00  139.89  107.72   \n",
       "4  bitcoin    BTC  Bitcoin  2013-05-02        1  116.38  125.60   92.28   \n",
       "\n",
       "    close  volume        market  close_ratio  spread  \n",
       "0  134.21     0.0  1.500520e+09       0.5438    3.88  \n",
       "1  144.54     0.0  1.491160e+09       0.7813   13.49  \n",
       "2  139.00     0.0  1.597780e+09       0.3843   12.88  \n",
       "3  116.99     0.0  1.542820e+09       0.2882   32.17  \n",
       "4  105.21     0.0  1.292190e+09       0.3881   33.32  "
      ]
     },
     "execution_count": 8,
     "metadata": {},
     "output_type": "execute_result"
    }
   ],
   "source": [
    "cc.head()"
   ]
  },
  {
   "cell_type": "code",
   "execution_count": 13,
   "metadata": {},
   "outputs": [
    {
     "data": {
      "text/plain": [
       "count       758534\n",
       "unique        1591\n",
       "top       HempCoin\n",
       "freq          2199\n",
       "Name: name, dtype: object"
      ]
     },
     "execution_count": 13,
     "metadata": {},
     "output_type": "execute_result"
    }
   ],
   "source": [
    "#How many unique cryptocurrencies are featured here? It claims \"all\" are featured.\n",
    "cc['name'].describe()\n",
    "#There are 1591 unique names of currencies with the most frequently represented currency being HempCoin."
   ]
  },
  {
   "cell_type": "code",
   "execution_count": 34,
   "metadata": {},
   "outputs": [
    {
     "data": {
      "text/plain": [
       "count    7.585340e+05\n",
       "mean     1.257924e+02\n",
       "std      7.420732e+03\n",
       "min      0.000000e+00\n",
       "25%      0.000000e+00\n",
       "50%      0.000000e+00\n",
       "75%      4.000000e-02\n",
       "max      1.770563e+06\n",
       "Name: spread, dtype: float64"
      ]
     },
     "execution_count": 34,
     "metadata": {},
     "output_type": "execute_result"
    }
   ],
   "source": [
    "cc['slug'].describe()\n",
    "cc['open'].describe()\n",
    "cc['spread'].describe()"
   ]
  },
  {
   "cell_type": "code",
   "execution_count": 32,
   "metadata": {},
   "outputs": [
    {
     "data": {
      "image/png": "[encoded data removed]",
      "text/plain": [
       "<matplotlib.figure.Figure at 0x2b44bdc25f8>"
      ]
     },
     "metadata": {},
     "output_type": "display_data"
    }
   ],
   "source": [
    "#A scatterplot showing the relationship between the opening price of a coin and it's highest value\n",
    "plt.scatter(cc['open'],cc['high'])\n",
    "plt.title(\"Open vs High Price\") #Change x and y axis scale\n",
    "plt.show()"
   ]
  },
  {
   "cell_type": "code",
   "execution_count": 33,
   "metadata": {},
   "outputs": [
    {
     "data": {
      "image/png": "[encoded data removed]",
      "text/plain": [
       "<matplotlib.figure.Figure at 0x2b44aaf8e48>"
      ]
     },
     "metadata": {},
     "output_type": "display_data"
    }
   ],
   "source": [
    "#A scatterplot showing \n",
    "plt.scatter(cc['high'],cc['close'])\n",
    "plt.title(\"High vs Closing Price\")\n",
    "plt.xlabel(\"High Value\") #Change x and y axis scale\n",
    "plt.ylabel(\"Close Value\")\n",
    "plt.show()"
   ]
  },
  {
   "cell_type": "code",
   "execution_count": null,
   "metadata": {},
   "outputs": [],
   "source": []
  }
 ],
 "metadata": {
  "kernelspec": {
   "display_name": "Python 3",
   "language": "python",
   "name": "python3"
  },
  "language_info": {
   "codemirror_mode": {
    "name": "ipython",
    "version": 3
   },
   "file_extension": ".py",
   "mimetype": "text/x-python",
   "name": "python",
   "nbconvert_exporter": "python",
   "pygments_lexer": "ipython3",
   "version": "3.6.4"
  }
 },
 "nbformat": 4,
 "nbformat_minor": 2
}
